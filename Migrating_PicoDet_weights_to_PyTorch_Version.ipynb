{
  "nbformat": 4,
  "nbformat_minor": 0,
  "metadata": {
    "colab": {
      "name": "Migrating PicoDet weights to PyTorch Version",
      "provenance": [],
      "collapsed_sections": []
    },
    "kernelspec": {
      "name": "python3",
      "display_name": "Python 3"
    },
    "language_info": {
      "name": "python"
    }
  },
  "cells": [
    {
      "cell_type": "code",
      "execution_count": null,
      "metadata": {
        "id": "m5-mBQwwECsX"
      },
      "outputs": [],
      "source": [
        "!pip install paddlepaddle\n",
        "!curl https://gist.githubusercontent.com/lime-j/f9e253332c87881df229eb09ec528e66/raw/b2bbfed2fc20b309e1fe8b9df2e04406ca46025f/esnet.py > esnet.py\n",
        "!curl https://gist.githubusercontent.com/lime-j/a5d5383aa7031d0f33c0e2e9476ca9ec/raw/e32e6c0edafe95055d3ccb3e4e6e3bac6c4d0f25/pd_esnet.py > pd_esnet.py"
      ]
    },
    {
      "cell_type": "code",
      "source": [
        "!git clone https://github.com/PaddlePaddle/PaddleDetection"
      ],
      "metadata": {
        "id": "6aMSh7kMIUSv"
      },
      "execution_count": null,
      "outputs": []
    },
    {
      "cell_type": "code",
      "source": [
        "%cd /content/PaddleDetection\n",
        "!cp ./ppdet ../ -r\n",
        "!pip install -r requirements.txt\n",
        "%cd /content/"
      ],
      "metadata": {
        "id": "Q_0RYb4OHt9O"
      },
      "execution_count": null,
      "outputs": []
    },
    {
      "cell_type": "code",
      "source": [
        "from esnet import ESNet as ptesnet\n",
        "from pd_esnet import ppESNet as ppesnet\n",
        "import numpy as np\n",
        "import paddle\n",
        "import pickle\n",
        "import torch"
      ],
      "metadata": {
        "id": "g0-Ok2bVFBkM"
      },
      "execution_count": null,
      "outputs": []
    },
    {
      "cell_type": "code",
      "source": [
        "ptnet = ptesnet(scale=1.0,feature_maps=[4, 11, 14],channel_ratio=[0.875, 0.5, 1.0, 0.625, 0.5, 0.75, 0.625, 0.625, 0.5, 0.625, 1.0, 0.625, 0.75])\n",
        "ppnet = ppesnet(scale=1.0,feature_maps=[4, 11, 14],channel_ratio=[0.875, 0.5, 1.0, 0.625, 0.5, 0.75, 0.625, 0.625, 0.5, 0.625, 1.0, 0.625, 0.75])"
      ],
      "metadata": {
        "id": "I8NOBHTjFLC7"
      },
      "execution_count": 5,
      "outputs": []
    },
    {
      "cell_type": "code",
      "source": [
        "pdparams_root = \"/content/model_final.pdparams\"\n",
        "pd_state_dict = paddle.load(pdparams_root)\n",
        "pd_backbone_state_dict = paddle.load(pdparams_root) \n",
        "from_block_lst = [3, 7, 3]\n",
        "pfx = [0, 3, 10]\n",
        "for k in pd_state_dict.keys():\n",
        "    if (\"backbone\" not in k) : continue\n",
        "    to_key = str.replace(k, \"backbone.\", \"backbone0.\")\n",
        "    to_key = str.replace(to_key, \"_mean\", \"running_mean\")\n",
        "    to_key = str.replace(to_key, \"_variance\", \"running_var\")\n",
        "\n",
        "    for i in range(2, 5):\n",
        "        for j in range(1, from_block_lst[i - 2] + 1):\n",
        "            if 'backbone0.%d_%d' % (i, j) in to_key:\n",
        "                to_key = str.replace(to_key, 'backbone0.%d_%d' % (i, j), 'backbone0._block_list.%d' %(pfx[i - 2] + j - 1))\n",
        "\n",
        "    to_key = str.replace(to_key, \"backbone0.\", \"\")\n",
        "    ret_state_dict[to_key] = pd_state_dict[k].numpy()\n",
        "\n",
        "    # Convert origin checkpoint into a backbone-only one\n",
        "    to_pp_backbone_key = str.replace(k, \"backbone.\", \"\")\n",
        "    pp_state_dict[to_pp_backbone_key] = pd_backbone_state_dict[k]  \n",
        "    \n",
        "for k in ret_state_dict.keys():\n",
        "    ret_state_dict[k] = torch.from_numpy(ret_state_dict[k])"
      ],
      "metadata": {
        "id": "K17ZkicbFQJH"
      },
      "execution_count": 6,
      "outputs": []
    },
    {
      "cell_type": "code",
      "source": [
        "ptnet.load_state_dict(ret_state_dict)\n",
        "ppnet.load_dict(pd_backbone_state_dict)   \n",
        "ppnet.eval()\n",
        "ptnet = ptnet.eval() "
      ],
      "metadata": {
        "id": "Qd8_lq74LYSp"
      },
      "execution_count": 7,
      "outputs": []
    },
    {
      "cell_type": "code",
      "source": [
        "check_ret = 0\n",
        "for tests in range(20):\n",
        "    x_np = np.random.randn(1, 3, 416, 416).astype(np.float32)\n",
        "    x_pp = paddle.to_tensor(x_np)\n",
        "    pp_ret = ppnet(x_pp)\n",
        "    pt_ret = ptnet(torch.tensor(x_np))\n",
        "    pp_ret = [x.numpy() for x in pp_ret]\n",
        "    pt_ret = [x.detach().numpy() for x in pt_ret]\n",
        "    for i in range(3):\n",
        "        check_ret += np.mean(np.abs(pt_ret[i] - pp_ret[i]))\n",
        "check_ret /= 20 * 3\n",
        "assert check_ret <= 1e-3, \"difference between paddle and pytorch is too large, suggesting something wrong happened\"\n",
        "print(check_ret)"
      ],
      "metadata": {
        "colab": {
          "base_uri": "https://localhost:8080/"
        },
        "id": "9SVqSyz9Mrl9",
        "outputId": "539e9a05-2e02-4f36-fe0b-e5761d111edb"
      },
      "execution_count": 8,
      "outputs": [
        {
          "output_type": "stream",
          "name": "stdout",
          "text": [
            "1.9692649431135578e-07\n"
          ]
        }
      ]
    },
    {
      "cell_type": "code",
      "source": [
        "torch.save(ptnet.state_dict(), \"esnet-m-416-300epoch.pth\")"
      ],
      "metadata": {
        "id": "-N-1hYQNXk8t"
      },
      "execution_count": 10,
      "outputs": []
    }
  ]
}